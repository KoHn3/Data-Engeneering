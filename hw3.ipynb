{
 "cells": [
  {
   "cell_type": "code",
   "execution_count": 1,
   "id": "ecc30fb9-6534-4d48-b8f3-7d552d85e281",
   "metadata": {},
   "outputs": [],
   "source": [
    "import numpy as np"
   ]
  },
  {
   "cell_type": "code",
   "execution_count": 6,
   "id": "0b2230af-518d-4bf5-bcd4-f49b33041996",
   "metadata": {},
   "outputs": [
    {
     "data": {
      "text/plain": [
       "(8,)"
      ]
     },
     "execution_count": 6,
     "metadata": {},
     "output_type": "execute_result"
    }
   ],
   "source": [
    "hairstyles=np.array([\"bouffant\",\"pixie\",\"dreadlocks\",\"crew\",\"bowl\",\"bob\",\"mohawk\",\"flattop\"])\n",
    "prices=np.array([30,25,40,20,20,35,50,35])\n",
    "last_week=np.array([2,3,5,8,4,4,6,2])\n",
    "np.shape(hairstyles)"
   ]
  },
  {
   "cell_type": "code",
   "execution_count": 19,
   "id": "84106c4e-8db9-4d08-97e9-148dc852a1ff",
   "metadata": {},
   "outputs": [],
   "source": [
    "total_price=0\n",
    "for i in range(len(hairstyles)):\n",
    "    total_price=total_price+prices[i]\n"
   ]
  },
  {
   "cell_type": "code",
   "execution_count": 21,
   "id": "a953851b-43da-4f37-8fea-4b95201ef7fa",
   "metadata": {},
   "outputs": [
    {
     "name": "stdout",
     "output_type": "stream",
     "text": [
      "average price is  31.875\n"
     ]
    }
   ],
   "source": [
    "average=total_price/len(prices)\n",
    "print('average price is ',average)"
   ]
  },
  {
   "cell_type": "code",
   "execution_count": 22,
   "id": "988a9b8d-97c6-446c-95ba-0715b547e712",
   "metadata": {},
   "outputs": [
    {
     "data": {
      "text/plain": [
       "array([25, 20, 35, 15, 15, 30, 45, 30])"
      ]
     },
     "execution_count": 22,
     "metadata": {},
     "output_type": "execute_result"
    }
   ],
   "source": [
    "new_prices=prices-5\n",
    "new_prices"
   ]
  },
  {
   "cell_type": "code",
   "execution_count": 26,
   "id": "7d1078a8-05dc-4445-ad58-af9c20eca196",
   "metadata": {},
   "outputs": [
    {
     "name": "stdout",
     "output_type": "stream",
     "text": [
      "average daily revenue is  155.0\n"
     ]
    }
   ],
   "source": [
    "total_revenue=0\n",
    "for i in range(0,len(hairstyles)):\n",
    "    total_revenue=total_revenue+prices[i]*last_week[i]\n",
    "average_total_revenue=total_revenue/7\n",
    "print('average daily revenue is ',average_total_revenue)"
   ]
  },
  {
   "cell_type": "code",
   "execution_count": 54,
   "id": "59eae33b-d59f-4daa-8af2-1c19a58c7f38",
   "metadata": {},
   "outputs": [
    {
     "name": "stdout",
     "output_type": "stream",
     "text": [
      "bouffant\n",
      "pixie\n",
      "crew\n",
      "bowl\n"
     ]
    }
   ],
   "source": [
    "cuts_under_30=hairstyles\n",
    "for i in range(len(prices)):\n",
    "    if new_prices[i]<30:\n",
    "        print(cuts_under_30[i])\n"
   ]
  },
  {
   "cell_type": "code",
   "execution_count": null,
   "id": "caf28a8a-ed8f-4edb-9028-220ae084aa51",
   "metadata": {},
   "outputs": [],
   "source": []
  }
 ],
 "metadata": {
  "kernelspec": {
   "display_name": "Python 3 (ipykernel)",
   "language": "python",
   "name": "python3"
  },
  "language_info": {
   "codemirror_mode": {
    "name": "ipython",
    "version": 3
   },
   "file_extension": ".py",
   "mimetype": "text/x-python",
   "name": "python",
   "nbconvert_exporter": "python",
   "pygments_lexer": "ipython3",
   "version": "3.9.7"
  }
 },
 "nbformat": 4,
 "nbformat_minor": 5
}
