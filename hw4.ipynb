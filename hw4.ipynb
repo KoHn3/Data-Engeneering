{
 "cells": [
  {
   "cell_type": "code",
   "execution_count": 1,
   "id": "1144093f-3486-45ee-a9f7-60c395a99914",
   "metadata": {},
   "outputs": [],
   "source": [
    "import numpy as np"
   ]
  },
  {
   "cell_type": "code",
   "execution_count": 9,
   "id": "b517bb36-42f2-46aa-a349-1f66e212526c",
   "metadata": {},
   "outputs": [],
   "source": [
    "month=np.array(['쌍', '쇠', '복', '돌', '팽', '육', '쌍', '개', '칠', '갑', '삼', '방'])\n",
    "day=np.array(['봉', '구', '욕', '포', '똥', '삼', '식', '석', '놈', '님', '년', '돌', '단', '득', '방', '질', '장', '걸', '래', '룡', '동', '순', '자', '박', '창', '언', '것', '포', '만', '단', '국'])"
   ]
  },
  {
   "cell_type": "code",
   "execution_count": 23,
   "id": "c6884429-1199-4e87-b5ef-b0ec3299b4da",
   "metadata": {},
   "outputs": [],
   "source": [
    "def get_my_chosun_name(a,b,c):\n",
    "    print('당신의 조선시대 이름은 ',a,month[b],day[c],' 입니다')"
   ]
  },
  {
   "cell_type": "code",
   "execution_count": 24,
   "id": "b2471695-78e3-4633-9621-510b790d8252",
   "metadata": {},
   "outputs": [
    {
     "name": "stdout",
     "output_type": "stream",
     "text": [
      "당신의 조선시대 이름은  김 돌 박  입니다\n"
     ]
    }
   ],
   "source": [
    "get_my_chosun_name('김',3,23)"
   ]
  },
  {
   "cell_type": "code",
   "execution_count": null,
   "id": "4fb50220-563b-4bfa-8d65-ad7a2498ad06",
   "metadata": {},
   "outputs": [],
   "source": []
  }
 ],
 "metadata": {
  "kernelspec": {
   "display_name": "Python 3 (ipykernel)",
   "language": "python",
   "name": "python3"
  },
  "language_info": {
   "codemirror_mode": {
    "name": "ipython",
    "version": 3
   },
   "file_extension": ".py",
   "mimetype": "text/x-python",
   "name": "python",
   "nbconvert_exporter": "python",
   "pygments_lexer": "ipython3",
   "version": "3.9.7"
  }
 },
 "nbformat": 4,
 "nbformat_minor": 5
}
