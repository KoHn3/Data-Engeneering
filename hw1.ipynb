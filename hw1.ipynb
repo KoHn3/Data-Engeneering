{
 "cells": [
  {
   "cell_type": "code",
   "execution_count": 28,
   "id": "fff0e8be-8db0-4624-81fd-04bd4508247e",
   "metadata": {},
   "outputs": [],
   "source": [
    "#[name,description,price,Buy or not]\n",
    "A_furniture_store=[['lovely_loveseat','Lovely Loveseat. Tufted polyester blend on wood. 32 inches high x 40 inches wide x 30 inches deep. Red or white.',254.00,True]\n",
    "                  ,['stylish_settee','Stylish Settee. Faux leather on birch. 29.50 inches high x 54.75 inches wide x 28 inches deep. Black.',180.50,False]\n",
    "                  ,['luxurious_lamp','Luxurious Lamp. Glass and iron. 36 inches tall. Brown with cream shade.',52.15,True]]\n"
   ]
  },
  {
   "cell_type": "code",
   "execution_count": 23,
   "id": "3db16afb-454e-4b7c-951b-fcb1eb6757fb",
   "metadata": {},
   "outputs": [],
   "source": [
    "sales_tax=0.088"
   ]
  },
  {
   "cell_type": "code",
   "execution_count": 29,
   "id": "3f463890-c1f0-463a-8313-94e8c5d45056",
   "metadata": {},
   "outputs": [
    {
     "name": "stdout",
     "output_type": "stream",
     "text": [
      "Customer One Items:\n",
      "Lovely Loveseat. Tufted polyester blend on wood. 32 inches high x 40 inches wide x 30 inches deep. Red or white.\n",
      "Luxurious Lamp. Glass and iron. 36 inches tall. Brown with cream shade.\n",
      "Customer One Total:\n",
      "333.0912\n"
     ]
    }
   ],
   "source": [
    "print(\"Customer One Items:\")\n",
    "for i in range(0,3):\n",
    "    if A_furniture_store[i][3]==1:\n",
    "        print(A_furniture_store[i][1])\n",
    "print(\"Customer One Total:\")\n",
    "totalprice=0\n",
    "for j in range(0,3):\n",
    "    if A_furniture_store[j][3]==1:\n",
    "        totalprice=totalprice+A_furniture_store[j][2]*(sales_tax+1)\n",
    "\n",
    "print(totalprice)\n",
    "        \n",
    "\n"
   ]
  }
 ],
 "metadata": {
  "kernelspec": {
   "display_name": "Python 3 (ipykernel)",
   "language": "python",
   "name": "python3"
  },
  "language_info": {
   "codemirror_mode": {
    "name": "ipython",
    "version": 3
   },
   "file_extension": ".py",
   "mimetype": "text/x-python",
   "name": "python",
   "nbconvert_exporter": "python",
   "pygments_lexer": "ipython3",
   "version": "3.9.7"
  }
 },
 "nbformat": 4,
 "nbformat_minor": 5
}
