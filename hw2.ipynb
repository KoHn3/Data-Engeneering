{
 "cells": [
  {
   "cell_type": "code",
   "execution_count": 16,
   "id": "5a7d55b4",
   "metadata": {},
   "outputs": [],
   "source": [
    "import numpy as np\n",
    "subjects=np.array([\"physics\",\"calculus\",\"poetry\",\"history\"])\n",
    "grades=np.array([98,97,85,88])"
   ]
  },
  {
   "cell_type": "code",
   "execution_count": 17,
   "id": "83df9a9e",
   "metadata": {},
   "outputs": [],
   "source": [
    "subjects=np.array([\"physics\",\"calculus\",\"poetry\",\"history\"])\n",
    "grades=np.array([98,97,85,88])"
   ]
  },
  {
   "cell_type": "code",
   "execution_count": 18,
   "id": "ae7bd9e8",
   "metadata": {},
   "outputs": [
    {
     "data": {
      "text/plain": [
       "array([['physics', '98'],\n",
       "       ['calculus', '97'],\n",
       "       ['poetry', '85'],\n",
       "       ['history', '88']], dtype='<U11')"
      ]
     },
     "execution_count": 18,
     "metadata": {},
     "output_type": "execute_result"
    }
   ],
   "source": [
    "gradebook=np.stack((subjects,grades),axis=1)\n",
    "gradebook"
   ]
  },
  {
   "cell_type": "code",
   "execution_count": 19,
   "id": "3a89d4cd",
   "metadata": {
    "tags": []
   },
   "outputs": [
    {
     "data": {
      "text/plain": [
       "array([['physics', '98'],\n",
       "       ['calculus', '97'],\n",
       "       ['poetry', '85'],\n",
       "       ['history', '88'],\n",
       "       ['computer science', '100'],\n",
       "       ['visual arts', '93']], dtype='<U16')"
      ]
     },
     "execution_count": 19,
     "metadata": {},
     "output_type": "execute_result"
    }
   ],
   "source": [
    "\n",
    "gradebook=np.append(gradebook,np.array([['computer science', 100], ['visual arts', 93]]),axis=0)\n",
    "gradebook"
   ]
  },
  {
   "cell_type": "code",
   "execution_count": 20,
   "id": "e4f21687",
   "metadata": {},
   "outputs": [
    {
     "data": {
      "text/plain": [
       "array([['physics', '98'],\n",
       "       ['poetry', '85'],\n",
       "       ['history', '88'],\n",
       "       ['computer science', '100']], dtype='<U16')"
      ]
     },
     "execution_count": 20,
     "metadata": {},
     "output_type": "execute_result"
    }
   ],
   "source": [
    "gradebook=np.delete(gradebook,5,axis=0)\n",
    "gradebook=np.delete(gradebook,1,axis=0)\n",
    "gradebook"
   ]
  },
  {
   "cell_type": "code",
   "execution_count": 21,
   "id": "03ca04a3",
   "metadata": {},
   "outputs": [
    {
     "data": {
      "text/plain": [
       "array([['physics', '98'],\n",
       "       ['poetry', '85'],\n",
       "       ['history', '88'],\n",
       "       ['computer science', '100'],\n",
       "       ['potery', 'pass'],\n",
       "       ['visual arts', '98']], dtype='<U16')"
      ]
     },
     "execution_count": 21,
     "metadata": {},
     "output_type": "execute_result"
    }
   ],
   "source": [
    "gradebook=np.append(gradebook,np.array([[\"potery\",\"pass\"]]),axis=0)\n",
    "gradebook=np.append(gradebook,np.array([[\"visual arts\",\"98\"]]),axis=0)\n",
    "gradebook"
   ]
  },
  {
   "cell_type": "code",
   "execution_count": 22,
   "id": "338e0453-7b59-41a6-b949-501b1022390b",
   "metadata": {},
   "outputs": [],
   "source": [
    "last_semester_gradebook =np.array([[\"politics\", 80], [\"latin\", 96], [\"dance\", 97], [\"architecture\", 65]])"
   ]
  },
  {
   "cell_type": "code",
   "execution_count": 23,
   "id": "ff25b860-7311-4676-b876-8ec63d76291d",
   "metadata": {},
   "outputs": [
    {
     "data": {
      "text/plain": [
       "array([['physics', '98'],\n",
       "       ['poetry', '85'],\n",
       "       ['history', '88'],\n",
       "       ['computer science', '100'],\n",
       "       ['potery', 'pass'],\n",
       "       ['visual arts', '98'],\n",
       "       ['politics', '80'],\n",
       "       ['latin', '96'],\n",
       "       ['dance', '97'],\n",
       "       ['architecture', '65']], dtype='<U16')"
      ]
     },
     "execution_count": 23,
     "metadata": {},
     "output_type": "execute_result"
    }
   ],
   "source": [
    "full_gradebook=np.append(gradebook,last_semester_gradebook,axis=0)\n",
    "full_gradebook"
   ]
  },
  {
   "cell_type": "code",
   "execution_count": null,
   "id": "5a870cd8-f7ac-40da-aa05-fb0591c080b0",
   "metadata": {},
   "outputs": [],
   "source": []
  }
 ],
 "metadata": {
  "kernelspec": {
   "display_name": "Python 3 (ipykernel)",
   "language": "python",
   "name": "python3"
  },
  "language_info": {
   "codemirror_mode": {
    "name": "ipython",
    "version": 3
   },
   "file_extension": ".py",
   "mimetype": "text/x-python",
   "name": "python",
   "nbconvert_exporter": "python",
   "pygments_lexer": "ipython3",
   "version": "3.9.7"
  }
 },
 "nbformat": 4,
 "nbformat_minor": 5
}
