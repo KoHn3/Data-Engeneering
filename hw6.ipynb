{
 "cells": [
  {
   "cell_type": "code",
   "execution_count": 18,
   "id": "a3fc82ca-2fb6-4232-9975-3ef9736ed209",
   "metadata": {},
   "outputs": [],
   "source": [
    "import numpy as np  \n",
    "import matplotlib.pyplot as plt  \n",
    "from mpl_toolkits.axes_grid1 import make_axes_locatable"
   ]
  },
  {
   "cell_type": "code",
   "execution_count": 19,
   "id": "da7d032c-fc1b-4666-805a-4cdbdb5929de",
   "metadata": {},
   "outputs": [
    {
     "data": {
      "text/plain": [
       "<matplotlib.pyplot._IonContext at 0x1b413c43a60>"
      ]
     },
     "execution_count": 19,
     "metadata": {},
     "output_type": "execute_result"
    }
   ],
   "source": [
    "%matplotlib qt5\n",
    "%config InlineBackend.figure_format = 'svg'\n",
    "\n",
    "plt.rcParams['figure.figsize'] = [12, 5]\n",
    "plt.rcParams['font.size'] = 13\n",
    "plt.ion()"
   ]
  },
  {
   "cell_type": "code",
   "execution_count": 20,
   "id": "0a8eb4a9-a760-4e55-aca0-1d67137e55c8",
   "metadata": {},
   "outputs": [],
   "source": [
    "def f(z):\n",
    "    return z**2-1"
   ]
  },
  {
   "cell_type": "code",
   "execution_count": 21,
   "id": "e9739ccb-efd5-4337-9da6-4594409505b7",
   "metadata": {},
   "outputs": [
    {
     "name": "stdout",
     "output_type": "stream",
     "text": [
      "[15.  +0.j  -0.04-0.4j  1.56+0.j ]\n"
     ]
    }
   ],
   "source": [
    "j=(-1)**0.5\n",
    "z = np.array([4, 1-0.2j, 1.6])\n",
    "f(z)\n",
    "print(f(z))"
   ]
  },
  {
   "cell_type": "code",
   "execution_count": 22,
   "id": "ed60331b-497c-4162-8fae-e511ba1c3395",
   "metadata": {},
   "outputs": [],
   "source": [
    "x, y = np.meshgrid(np.linspace(-10,10), np.linspace(-10,10))\n",
    "mesh=x+(y*j)"
   ]
  },
  {
   "cell_type": "code",
   "execution_count": 23,
   "id": "fab11f36-57fb-4b88-b279-581262b7910f",
   "metadata": {},
   "outputs": [],
   "source": [
    "output=np.abs(f(mesh))"
   ]
  },
  {
   "cell_type": "code",
   "execution_count": 24,
   "id": "4bdd9a5a-eda8-457b-b0e8-0ed6a51a0fcb",
   "metadata": {},
   "outputs": [],
   "source": [
    "fig = plt.figure()\n",
    "ax = plt.axes(projection='3d')\n",
    "\n",
    "ax.scatter(x, y, output, alpha=0.2)\n",
    "\n",
    "ax.set_xlabel('Real axis')      # 실수부\n",
    "ax.set_ylabel('Imaginary axis') # 허수부\n",
    "ax.set_zlabel('Absolute value') # 함수값의 절대값\n",
    "ax.set_title('One Iteration: $f(z) = z^2 - 1$');"
   ]
  },
  {
   "cell_type": "code",
   "execution_count": null,
   "id": "de8cd964-fc67-4448-bbc2-a95ce065f4b8",
   "metadata": {},
   "outputs": [],
   "source": []
  }
 ],
 "metadata": {
  "kernelspec": {
   "display_name": "Python 3 (ipykernel)",
   "language": "python",
   "name": "python3"
  },
  "language_info": {
   "codemirror_mode": {
    "name": "ipython",
    "version": 3
   },
   "file_extension": ".py",
   "mimetype": "text/x-python",
   "name": "python",
   "nbconvert_exporter": "python",
   "pygments_lexer": "ipython3",
   "version": "3.9.7"
  }
 },
 "nbformat": 4,
 "nbformat_minor": 5
}
